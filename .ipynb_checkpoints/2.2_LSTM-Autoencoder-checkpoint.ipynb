{
 "cells": [
  {
   "cell_type": "markdown",
   "metadata": {},
   "source": [
    "# EELS SrFeO Project \n",
    "## RNN Autoencoder\n",
    "\n",
    "*Collaboration: M3 Learning at Lehigh University x Dynamic Characterization Group at Drexel University*\n"
   ]
  },
  {
   "cell_type": "markdown",
   "metadata": {},
   "source": [
    "#### Some resources to read on RNN Autoencoder\n",
    "\n",
    "* "
   ]
  },
  {
   "cell_type": "markdown",
   "metadata": {},
   "source": [
    "### Import Package"
   ]
  },
  {
   "cell_type": "code",
   "execution_count": 8,
   "metadata": {},
   "outputs": [],
   "source": [
    "%matplotlib inline\n",
    "import matplotlib.pyplot as plt\n",
    "import hyperspy.api as hs\n",
    "hs.preferences.GUIs.warn_if_guis_are_missing = False"
   ]
  },
  {
   "cell_type": "markdown",
   "metadata": {},
   "source": [
    "### Loading Data"
   ]
  },
  {
   "cell_type": "code",
   "execution_count": 3,
   "metadata": {
    "scrolled": true
   },
   "outputs": [],
   "source": [
    "# loading initial data\n",
    "data_initial = hs.load('processed_data/EELS_initial*.hdf5', signal_type=\"EELS\", stack=False)\n",
    "data_anneal = hs.load('processed_data/EELS_final*.hdf5', signal_type=\"EELS\", stack=False)"
   ]
  },
  {
   "cell_type": "code",
   "execution_count": 6,
   "metadata": {
    "scrolled": true
   },
   "outputs": [
    {
     "name": "stdout",
     "output_type": "stream",
     "text": [
      "├── Acquisition_instrument\n",
      "│   └── TEM\n",
      "│       ├── Detector\n",
      "│       │   └── EELS\n",
      "│       │       ├── aperture_size = 5.0\n",
      "│       │       ├── collection_angle = 45.0\n",
      "│       │       ├── dwell_time = 0.00246016\n",
      "│       │       ├── frame_number = 1\n",
      "│       │       └── spectrometer = Drexel GIF Quantum\n",
      "│       ├── Stage\n",
      "│       │   ├── tilt_alpha = 5.050000190734863\n",
      "│       │   ├── tilt_beta = 12.869999885559082\n",
      "│       │   ├── x = -0.7727048750000001\n",
      "│       │   ├── y = -0.06427769921875\n",
      "│       │   └── z = 0.03934330078125\n",
      "│       ├── acquisition_mode = STEM\n",
      "│       ├── beam_current = 0.0\n",
      "│       ├── beam_energy = 200.0\n",
      "│       ├── camera_length = 30.0\n",
      "│       ├── convergence_angle = 9.0\n",
      "│       ├── magnification = 600000.0\n",
      "│       └── microscope = JEOL COM\n",
      "├── General\n",
      "│   ├── date = 2019-09-19\n",
      "│   ├── original_filename = EELS Spectrum Image_00.dm4\n",
      "│   ├── time = 18:40:33\n",
      "│   └── title = EELS Spectrum Image_00\n",
      "└── Signal\n",
      "    ├── Noise_properties\n",
      "    │   └── Variance_linear_model\n",
      "    │       ├── gain_factor = 1.0\n",
      "    │       └── gain_offset = 0.0\n",
      "    ├── binned = True\n",
      "    ├── quantity = Intensity (Counts)\n",
      "    └── signal_type = EELS\n",
      "\n",
      "<Axes manager, axes: (300, 30|3710)>\n",
      "            Name |   size |  index |  offset |   scale |  units \n",
      "================ | ====== | ====== | ======= | ======= | ====== \n",
      "               x |    300 |      0 |      -0 |    0.99 |     nm \n",
      "               y |     30 |      0 |      -0 |    0.99 |     nm \n",
      "---------------- | ------ | ------ | ------- | ------- | ------ \n",
      "     Energy loss |   3710 |        | 3.9e+02 |    0.12 |     eV \n"
     ]
    }
   ],
   "source": [
    "print(data_initial[0].metadata)\n",
    "print(data_initial[0].axes_manager)"
   ]
  },
  {
   "cell_type": "code",
   "execution_count": 7,
   "metadata": {
    "scrolled": true
   },
   "outputs": [
    {
     "name": "stdout",
     "output_type": "stream",
     "text": [
      "├── Acquisition_instrument\n",
      "│   └── TEM\n",
      "│       ├── Detector\n",
      "│       │   └── EELS\n",
      "│       │       ├── aperture_size = 5.0\n",
      "│       │       ├── collection_angle = 45.0\n",
      "│       │       ├── dwell_time = 0.00246016\n",
      "│       │       ├── frame_number = 1\n",
      "│       │       └── spectrometer = Drexel GIF Quantum\n",
      "│       ├── Stage\n",
      "│       │   ├── tilt_alpha = -9.34000015258789\n",
      "│       │   ├── tilt_beta = 0.6800000071525574\n",
      "│       │   ├── x = -0.8281486875\n",
      "│       │   ├── y = -0.073643\n",
      "│       │   └── z = 0.0213675\n",
      "│       ├── acquisition_mode = STEM\n",
      "│       ├── beam_current = 0.0\n",
      "│       ├── beam_energy = 200.0\n",
      "│       ├── camera_length = 30.0\n",
      "│       ├── convergence_angle = 9.0\n",
      "│       ├── magnification = 600000.0\n",
      "│       └── microscope = JEOL COM\n",
      "├── General\n",
      "│   ├── date = 2019-09-19\n",
      "│   ├── original_filename = EELS Spectrum Image_00.dm4\n",
      "│   ├── time = 20:59:46\n",
      "│   └── title = EELS Spectrum Image_00\n",
      "└── Signal\n",
      "    ├── Noise_properties\n",
      "    │   └── Variance_linear_model\n",
      "    │       ├── gain_factor = 1.0\n",
      "    │       └── gain_offset = 0.0\n",
      "    ├── binned = True\n",
      "    ├── quantity = Intensity (Counts)\n",
      "    └── signal_type = EELS\n",
      "\n",
      "<Axes manager, axes: (300, 30|3710)>\n",
      "            Name |   size |  index |  offset |   scale |  units \n",
      "================ | ====== | ====== | ======= | ======= | ====== \n",
      "               x |    300 |      0 |      -0 |    0.99 |     nm \n",
      "               y |     30 |      0 |      -0 |    0.99 |     nm \n",
      "---------------- | ------ | ------ | ------- | ------- | ------ \n",
      "     Energy loss |   3710 |        | 3.9e+02 |    0.12 |     eV \n"
     ]
    }
   ],
   "source": [
    "print(data_anneal[0].metadata)\n",
    "print(data_anneal[0].axes_manager)"
   ]
  },
  {
   "cell_type": "markdown",
   "metadata": {},
   "source": [
    "## Principle Component Analysis\n",
    "- Perform PCA on the 2 regions \n",
    "- reconstructing eigen components into 30x300 image & deconstruct again using PCA \n",
    "\n",
    "Essentially, I'm trying to use varience to explain my data. \n",
    "\n",
    "### Procedure\n",
    "1. perform PCA on all 20 spectral sets\n",
    "2. plot the variations of components\n",
    "3. plot embeddings"
   ]
  },
  {
   "cell_type": "code",
   "execution_count": 9,
   "metadata": {},
   "outputs": [],
   "source": [
    "import numpy as np\n",
    "import pandas as pd\n",
    "import scipy\n",
    "import seaborn as sns\n",
    "\n",
    "from sklearn.decomposition import PCA\n",
    "from sklearn.preprocessing import MinMaxScaler"
   ]
  },
  {
   "cell_type": "code",
   "execution_count": null,
   "metadata": {},
   "outputs": [],
   "source": []
  }
 ],
 "metadata": {
  "kernelspec": {
   "display_name": "Python 3",
   "language": "python",
   "name": "python3"
  },
  "language_info": {
   "codemirror_mode": {
    "name": "ipython",
    "version": 3
   },
   "file_extension": ".py",
   "mimetype": "text/x-python",
   "name": "python",
   "nbconvert_exporter": "python",
   "pygments_lexer": "ipython3",
   "version": "3.7.3"
  }
 },
 "nbformat": 4,
 "nbformat_minor": 2
}
