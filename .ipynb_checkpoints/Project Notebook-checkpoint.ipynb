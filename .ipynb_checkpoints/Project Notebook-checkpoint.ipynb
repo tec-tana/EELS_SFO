{
 "cells": [
  {
   "cell_type": "markdown",
   "metadata": {},
   "source": [
    "# EELS SFO Project \n",
    "**Description about data**\n",
    "\n",
    "4D dataset, with a total of 90,000 spectra. Each file should consist of 10 spectrum images, each of which should have 300 x 30 spatial coordinates. And for each spatial coordinate, there should be a spectra with 3710 energy channels. \n",
    "\n",
    "I have the stacked data separated into separate files. This task actually isn't supported within the software, but a contact at Gatan was able to make a script to do the job. Please see the google drive links below. There are now 10 individual SI files for the initial state (SrFeO3 with Fe4+) and 10 files for the annealed state (SrFeO2.5 with Fe3+). Each SI should have 300 x 30 spatial coordinates. For each spectra, the initial energy-loss value is 387.5 eV, and each channel has an energy width 0.125 eV, so the last channel in each spectra has a value of 851.25.\n",
    "\n",
    "** In HyperSpy a spectrum image has signal dimension 1 and navigation dimension 2 and is stored in the Signal1D\n",
    "subclass. An image stack has signal dimension 2 and navigation dimension 1 and is stored in the Signal2D subclass."
   ]
  },
  {
   "cell_type": "markdown",
   "metadata": {},
   "source": [
    "## Import packages"
   ]
  },
  {
   "cell_type": "code",
   "execution_count": 1,
   "metadata": {},
   "outputs": [],
   "source": [
    "%matplotlib qt\n",
    "import matplotlib.pyplot as plt\n",
    "import numpy as np\n",
    "import pandas as pd\n",
    "import hyperspy.api as hs\n",
    "import scipy\n",
    "import seaborn as sns"
   ]
  },
  {
   "cell_type": "markdown",
   "metadata": {},
   "source": [
    "## Load & inspect data "
   ]
  },
  {
   "cell_type": "code",
   "execution_count": 49,
   "metadata": {},
   "outputs": [
    {
     "data": {
      "text/plain": [
       "<EELSSpectrum, title: EELS Spectrum Image_00, dimensions: (300, 30|3710)>"
      ]
     },
     "execution_count": 49,
     "metadata": {},
     "output_type": "execute_result"
    }
   ],
   "source": [
    "data = hs.load(r'G:\\Shared drives\\Datasets\\High-Speed EELS\\annealed SIs\\EELS Spectrum Image_00.dm4', signal_type=\"EELS\")\n",
    "data"
   ]
  },
  {
   "cell_type": "code",
   "execution_count": 50,
   "metadata": {},
   "outputs": [
    {
     "data": {
      "text/plain": [
       "├── Acquisition_instrument\n",
       "│   └── TEM\n",
       "│       ├── Detector\n",
       "│       │   └── EELS\n",
       "│       │       ├── aperture_size = 5.0\n",
       "│       │       ├── collection_angle = 45.0\n",
       "│       │       ├── dwell_time = 0.00246016\n",
       "│       │       ├── frame_number = 1\n",
       "│       │       └── spectrometer = Drexel GIF Quantum\n",
       "│       ├── Stage\n",
       "│       │   ├── tilt_alpha = -9.34000015258789\n",
       "│       │   ├── tilt_beta = 0.6800000071525574\n",
       "│       │   ├── x = -0.8281486875\n",
       "│       │   ├── y = -0.073643\n",
       "│       │   └── z = 0.0213675\n",
       "│       ├── acquisition_mode = STEM\n",
       "│       ├── beam_current = 0.0\n",
       "│       ├── beam_energy = 200.0\n",
       "│       ├── camera_length = 30.0\n",
       "│       ├── convergence_angle = 9.0\n",
       "│       ├── magnification = 600000.0\n",
       "│       └── microscope = JEOL COM\n",
       "├── General\n",
       "│   ├── date = 2019-09-19\n",
       "│   ├── original_filename = EELS Spectrum Image_00.dm4\n",
       "│   ├── time = 20:59:46\n",
       "│   └── title = EELS Spectrum Image_00\n",
       "└── Signal\n",
       "    ├── Noise_properties\n",
       "    │   └── Variance_linear_model\n",
       "    │       ├── gain_factor = 1.0\n",
       "    │       └── gain_offset = 0.0\n",
       "    ├── binned = True\n",
       "    ├── quantity = Intensity (Counts)\n",
       "    └── signal_type = EELS"
      ]
     },
     "execution_count": 50,
     "metadata": {},
     "output_type": "execute_result"
    }
   ],
   "source": [
    "# showing metadata\n",
    "data.metadata"
   ]
  },
  {
   "cell_type": "code",
   "execution_count": 51,
   "metadata": {},
   "outputs": [
    {
     "data": {
      "text/html": [
       "<style>\n",
       "table, th, td {\n",
       "\tborder: 1px solid black;\n",
       "\tborder-collapse: collapse;\n",
       "}\n",
       "th, td {\n",
       "\tpadding: 5px;\n",
       "}\n",
       "</style>\n",
       "<p><b>< Axes manager, axes: (300, 30|3710) ></b></p>\n",
       "<table style='width:100%'>\n",
       "\n",
       "<tr> \n",
       "<th>Navigation axis name</th> \n",
       "<th>size</th> \n",
       "<th>index</th> \n",
       "<th>offset</th> \n",
       "<th>scale</th> \n",
       "<th>units</th> </tr>\n",
       "<tr> \n",
       "<td>x</td> \n",
       "<td>300</td> \n",
       "<td>0</td> \n",
       "<td>-0.0</td> \n",
       "<td>0.9918212890625</td> \n",
       "<td>nm</td> </tr>\n",
       "<tr> \n",
       "<td>y</td> \n",
       "<td>30</td> \n",
       "<td>0</td> \n",
       "<td>-0.0</td> \n",
       "<td>0.9918212890625</td> \n",
       "<td>nm</td> </tr></table>\n",
       "<table style='width:100%'>\n",
       "\n",
       "<tr> \n",
       "<th>Signal axis name</th> \n",
       "<th>size</th> \n",
       "<th>offset</th> \n",
       "<th>scale</th> \n",
       "<th>units</th> </tr>\n",
       "<tr> \n",
       "<td>Energy loss</td> \n",
       "<td>3710</td> \n",
       "<td>387.5</td> \n",
       "<td>0.125</td> \n",
       "<td>eV</td> </tr></table>\n"
      ],
      "text/plain": [
       "<Axes manager, axes: (300, 30|3710)>\n",
       "            Name |   size |  index |  offset |   scale |  units \n",
       "================ | ====== | ====== | ======= | ======= | ====== \n",
       "               x |    300 |      0 |      -0 |    0.99 |     nm \n",
       "               y |     30 |      0 |      -0 |    0.99 |     nm \n",
       "---------------- | ------ | ------ | ------- | ------- | ------ \n",
       "     Energy loss |   3710 |        | 3.9e+02 |    0.12 |     eV "
      ]
     },
     "execution_count": 51,
     "metadata": {},
     "output_type": "execute_result"
    }
   ],
   "source": [
    "# data information\n",
    "data.axes_manager"
   ]
  },
  {
   "cell_type": "code",
   "execution_count": 52,
   "metadata": {},
   "outputs": [
    {
     "data": {
      "text/plain": [
       "array([387.5  , 387.625, 387.75 , ..., 850.875, 851.   , 851.125])"
      ]
     },
     "execution_count": 52,
     "metadata": {},
     "output_type": "execute_result"
    }
   ],
   "source": [
    "# setting x-axis label\n",
    "corrected_xaxis = np.array([0.125*i+387.5 for i in range(data.data.shape[2])])\n",
    "corrected_xaxis"
   ]
  },
  {
   "cell_type": "code",
   "execution_count": 53,
   "metadata": {},
   "outputs": [
    {
     "name": "stdout",
     "output_type": "stream",
     "text": [
      "Shape of dark ref spectra: (3710,)\n",
      "Completed\n"
     ]
    }
   ],
   "source": [
    "# adding dark references to spectra\n",
    "dark_ref = hs.load(r'G:\\Shared drives\\Datasets\\High-Speed EELS\\dark reference.dm4', signal_type=\"EELS\")\n",
    "print(\"Shape of dark ref spectra: \" + str(dark_ref.data.shape))\n",
    "y = len(data.data)\n",
    "x = len(data.data[0])\n",
    "corrected_data = np.float32(np.copy(data.data))\n",
    "for i in range(y):\n",
    "    for j in range(x):\n",
    "        corrected_data[i][j] = np.sum([data.data[i][j],dark_ref.data], axis=0)\n",
    "print(\"Completed\")"
   ]
  },
  {
   "cell_type": "markdown",
   "metadata": {},
   "source": [
    "**Background Subtraction based on power law fit**\n",
    "\n",
    "> Fit the equation \"I = A*E^r\"\n",
    "    * I is the measured intensity, \n",
    "    * A is a constant\n",
    "    * E is the energy-loss value (eV)\n",
    "    * r is an exponent (usually around 3)\n",
    "Select an energy window (around 50 eV wide), a few eV before the edge of interest to fit A and r"
   ]
  },
  {
   "cell_type": "code",
   "execution_count": 54,
   "metadata": {},
   "outputs": [
    {
     "data": {
      "text/plain": [
       "(30, 300, 3710)"
      ]
     },
     "execution_count": 54,
     "metadata": {},
     "output_type": "execute_result"
    }
   ],
   "source": [
    "corrected_data.shape"
   ]
  },
  {
   "cell_type": "code",
   "execution_count": 65,
   "metadata": {},
   "outputs": [
    {
     "ename": "RuntimeError",
     "evalue": "Optimal parameters not found: Number of calls to function has reached maxfev = 600.",
     "output_type": "error",
     "traceback": [
      "\u001b[1;31m---------------------------------------------------------------------------\u001b[0m",
      "\u001b[1;31mRuntimeError\u001b[0m                              Traceback (most recent call last)",
      "\u001b[1;32m<ipython-input-65-7c7e5025ba22>\u001b[0m in \u001b[0;36m<module>\u001b[1;34m\u001b[0m\n\u001b[0;32m     23\u001b[0m \u001b[1;33m\u001b[0m\u001b[0m\n\u001b[0;32m     24\u001b[0m \u001b[0mbackgroundregion\u001b[0m \u001b[1;33m=\u001b[0m \u001b[0mnp\u001b[0m\u001b[1;33m.\u001b[0m\u001b[0marange\u001b[0m\u001b[1;33m(\u001b[0m\u001b[1;36m400\u001b[0m\u001b[1;33m,\u001b[0m\u001b[1;36m1000\u001b[0m\u001b[1;33m,\u001b[0m\u001b[1;36m1\u001b[0m\u001b[1;33m)\u001b[0m\u001b[1;33m\u001b[0m\u001b[1;33m\u001b[0m\u001b[0m\n\u001b[1;32m---> 25\u001b[1;33m \u001b[0mexp_adjusted_data\u001b[0m \u001b[1;33m=\u001b[0m \u001b[0msubtractExpBackground\u001b[0m\u001b[1;33m(\u001b[0m\u001b[0mcorrected_data\u001b[0m\u001b[1;33m,\u001b[0m\u001b[0mbackgroundregion\u001b[0m\u001b[1;33m)\u001b[0m\u001b[1;33m\u001b[0m\u001b[1;33m\u001b[0m\u001b[0m\n\u001b[0m",
      "\u001b[1;32m<ipython-input-65-7c7e5025ba22>\u001b[0m in \u001b[0;36msubtractExpBackground\u001b[1;34m(data1, xrange)\u001b[0m\n\u001b[0;32m     17\u001b[0m     \u001b[1;32mfor\u001b[0m \u001b[0mi\u001b[0m \u001b[1;32min\u001b[0m \u001b[0mrange\u001b[0m\u001b[1;33m(\u001b[0m\u001b[0mdata1\u001b[0m\u001b[1;33m.\u001b[0m\u001b[0mshape\u001b[0m\u001b[1;33m[\u001b[0m\u001b[1;36m0\u001b[0m\u001b[1;33m]\u001b[0m\u001b[1;33m)\u001b[0m\u001b[1;33m:\u001b[0m\u001b[1;33m\u001b[0m\u001b[1;33m\u001b[0m\u001b[0m\n\u001b[0;32m     18\u001b[0m         \u001b[1;32mfor\u001b[0m \u001b[0mj\u001b[0m \u001b[1;32min\u001b[0m \u001b[0mrange\u001b[0m\u001b[1;33m(\u001b[0m\u001b[0mdata1\u001b[0m\u001b[1;33m.\u001b[0m\u001b[0mshape\u001b[0m\u001b[1;33m[\u001b[0m\u001b[1;36m1\u001b[0m\u001b[1;33m]\u001b[0m\u001b[1;33m)\u001b[0m\u001b[1;33m:\u001b[0m\u001b[1;33m\u001b[0m\u001b[1;33m\u001b[0m\u001b[0m\n\u001b[1;32m---> 19\u001b[1;33m             \u001b[0mpopt\u001b[0m\u001b[1;33m,\u001b[0m \u001b[0mpcov\u001b[0m \u001b[1;33m=\u001b[0m \u001b[0mscipy\u001b[0m\u001b[1;33m.\u001b[0m\u001b[0moptimize\u001b[0m\u001b[1;33m.\u001b[0m\u001b[0mcurve_fit\u001b[0m\u001b[1;33m(\u001b[0m\u001b[0mscaledExp\u001b[0m\u001b[1;33m,\u001b[0m\u001b[0mxrange\u001b[0m\u001b[1;33m,\u001b[0m\u001b[0mdata2\u001b[0m\u001b[1;33m[\u001b[0m\u001b[0mi\u001b[0m\u001b[1;33m,\u001b[0m\u001b[0mj\u001b[0m\u001b[1;33m,\u001b[0m\u001b[0mxrange\u001b[0m\u001b[1;33m]\u001b[0m\u001b[1;33m,\u001b[0m \u001b[0mp0\u001b[0m \u001b[1;33m=\u001b[0m \u001b[1;33m[\u001b[0m\u001b[1;36m4.19082741e+02\u001b[0m\u001b[1;33m,\u001b[0m \u001b[1;33m-\u001b[0m\u001b[1;36m1.93625569e-03\u001b[0m\u001b[1;33m]\u001b[0m\u001b[1;33m)\u001b[0m\u001b[1;33m\u001b[0m\u001b[1;33m\u001b[0m\u001b[0m\n\u001b[0m\u001b[0;32m     20\u001b[0m             \u001b[0mdata2\u001b[0m\u001b[1;33m[\u001b[0m\u001b[0mi\u001b[0m\u001b[1;33m,\u001b[0m\u001b[0mj\u001b[0m\u001b[1;33m]\u001b[0m \u001b[1;33m=\u001b[0m \u001b[0mdata2\u001b[0m\u001b[1;33m[\u001b[0m\u001b[0mi\u001b[0m\u001b[1;33m,\u001b[0m\u001b[0mj\u001b[0m\u001b[1;33m]\u001b[0m\u001b[1;33m-\u001b[0m\u001b[0mscaledExp\u001b[0m\u001b[1;33m(\u001b[0m\u001b[0mx\u001b[0m\u001b[1;33m,\u001b[0m\u001b[0mpopt\u001b[0m\u001b[1;33m[\u001b[0m\u001b[1;36m0\u001b[0m\u001b[1;33m]\u001b[0m\u001b[1;33m,\u001b[0m\u001b[0mpopt\u001b[0m\u001b[1;33m[\u001b[0m\u001b[1;36m1\u001b[0m\u001b[1;33m]\u001b[0m\u001b[1;33m)\u001b[0m\u001b[1;33m\u001b[0m\u001b[1;33m\u001b[0m\u001b[0m\n\u001b[0;32m     21\u001b[0m             \u001b[1;31m# print(popt)\u001b[0m\u001b[1;33m\u001b[0m\u001b[1;33m\u001b[0m\u001b[1;33m\u001b[0m\u001b[0m\n",
      "\u001b[1;32mC:\\ProgramData\\Anaconda3\\lib\\site-packages\\scipy\\optimize\\minpack.py\u001b[0m in \u001b[0;36mcurve_fit\u001b[1;34m(f, xdata, ydata, p0, sigma, absolute_sigma, check_finite, bounds, method, jac, **kwargs)\u001b[0m\n\u001b[0;32m    746\u001b[0m         \u001b[0mcost\u001b[0m \u001b[1;33m=\u001b[0m \u001b[0mnp\u001b[0m\u001b[1;33m.\u001b[0m\u001b[0msum\u001b[0m\u001b[1;33m(\u001b[0m\u001b[0minfodict\u001b[0m\u001b[1;33m[\u001b[0m\u001b[1;34m'fvec'\u001b[0m\u001b[1;33m]\u001b[0m \u001b[1;33m**\u001b[0m \u001b[1;36m2\u001b[0m\u001b[1;33m)\u001b[0m\u001b[1;33m\u001b[0m\u001b[1;33m\u001b[0m\u001b[0m\n\u001b[0;32m    747\u001b[0m         \u001b[1;32mif\u001b[0m \u001b[0mier\u001b[0m \u001b[1;32mnot\u001b[0m \u001b[1;32min\u001b[0m \u001b[1;33m[\u001b[0m\u001b[1;36m1\u001b[0m\u001b[1;33m,\u001b[0m \u001b[1;36m2\u001b[0m\u001b[1;33m,\u001b[0m \u001b[1;36m3\u001b[0m\u001b[1;33m,\u001b[0m \u001b[1;36m4\u001b[0m\u001b[1;33m]\u001b[0m\u001b[1;33m:\u001b[0m\u001b[1;33m\u001b[0m\u001b[1;33m\u001b[0m\u001b[0m\n\u001b[1;32m--> 748\u001b[1;33m             \u001b[1;32mraise\u001b[0m \u001b[0mRuntimeError\u001b[0m\u001b[1;33m(\u001b[0m\u001b[1;34m\"Optimal parameters not found: \"\u001b[0m \u001b[1;33m+\u001b[0m \u001b[0merrmsg\u001b[0m\u001b[1;33m)\u001b[0m\u001b[1;33m\u001b[0m\u001b[1;33m\u001b[0m\u001b[0m\n\u001b[0m\u001b[0;32m    749\u001b[0m     \u001b[1;32melse\u001b[0m\u001b[1;33m:\u001b[0m\u001b[1;33m\u001b[0m\u001b[1;33m\u001b[0m\u001b[0m\n\u001b[0;32m    750\u001b[0m         \u001b[1;31m# Rename maxfev (leastsq) to max_nfev (least_squares), if specified.\u001b[0m\u001b[1;33m\u001b[0m\u001b[1;33m\u001b[0m\u001b[1;33m\u001b[0m\u001b[0m\n",
      "\u001b[1;31mRuntimeError\u001b[0m: Optimal parameters not found: Number of calls to function has reached maxfev = 600."
     ]
    }
   ],
   "source": [
    "# background substraction\n",
    "import scipy.optimize#  curve_fit\n",
    "\n",
    "def scaledExp(x,a,b):\n",
    "    return a*np.exp((np.array(x))*b)\n",
    "\n",
    "def subtractExpBackground(data1,xrange=None):\n",
    "    '''Resources:\n",
    "    https://github.com/trygvrad/RNN-on-EELS-data/blob/master/EELScodes\n",
    "    https://scipy-cookbook.readthedocs.io/items/FittingData.html\n",
    "    '''\n",
    "    data2 = np.float32(np.copy(data1))\n",
    "    x = range(data1.shape[2])\n",
    "    # fit over the entire spectra by default\n",
    "    if type(xrange) == type(None):\n",
    "        xrange = x \n",
    "    for i in range(data1.shape[0]):\n",
    "        for j in range(data1.shape[1]):\n",
    "            popt, pcov = scipy.optimize.curve_fit(scaledExp,xrange,data2[i,j,xrange], p0 = [4.19082741e+02, -1.93625569e-03])\n",
    "            data2[i,j] = data2[i,j]-scaledExp(x,popt[0],popt[1])\n",
    "            # print(popt)\n",
    "    return data2\n",
    "\n",
    "backgroundregion = np.arange(400,1000,1)\n",
    "exp_adjusted_data = subtractExpBackground(corrected_data,backgroundregion)"
   ]
  },
  {
   "cell_type": "code",
   "execution_count": 38,
   "metadata": {},
   "outputs": [],
   "source": [
    "# plotting interactive with hyperspy\n",
    "im = hs.signals.EELSSpectrum(exp_adjusted_data)\n",
    "im.remove_background(signal_range=(480,520), zero_fill=False, background_type='Power Law')\n",
    "im.axes_manager.indices = (100, 15)\n",
    "im.plot()"
   ]
  },
  {
   "cell_type": "code",
   "execution_count": 60,
   "metadata": {},
   "outputs": [
    {
     "name": "stdout",
     "output_type": "stream",
     "text": [
      "Shape after aggregate along X: (3710, 300)\n",
      "Shape after aggregate along X and Y: (3710,)\n"
     ]
    }
   ],
   "source": [
    "# aggregate data along 2D space\n",
    "aggregated_data_x = sum(exp_adjusted_data).transpose()\n",
    "print(\"Shape after aggregate along X: \" + str(aggregated_data_x.shape))\n",
    "aggregated_data_xy = np.sum(aggregated_data_x,axis=1)\n",
    "print(\"Shape after aggregate along X and Y: \" + str(aggregated_data_xy.shape))"
   ]
  },
  {
   "cell_type": "code",
   "execution_count": 61,
   "metadata": {},
   "outputs": [],
   "source": [
    "# plot aggregated spectral data\n",
    "fig, ax = plt.subplots()\n",
    "#line1 = ax.scatter(x=corrected_xaxis, y=aggregated_data_xy)\n",
    "line4 = ax.plot(aggregated_data_xy)\n",
    "#line2 = ax.plot(aggregated_data_x)\n",
    "#line3 = ax.plot(exp_adjusted_data[0,0])\n",
    "ax.set_title(\"Average Energy Loss\")\n",
    "plt.xlabel(\"Energy Loss (eV)\")\n",
    "plt.ylabel(\"counts\")\n",
    "plt.show()"
   ]
  },
  {
   "cell_type": "markdown",
   "metadata": {},
   "source": [
    "# Feature engineering"
   ]
  },
  {
   "cell_type": "markdown",
   "metadata": {},
   "source": [
    "## Data filtering"
   ]
  },
  {
   "cell_type": "code",
   "execution_count": null,
   "metadata": {},
   "outputs": [],
   "source": []
  },
  {
   "cell_type": "code",
   "execution_count": null,
   "metadata": {},
   "outputs": [],
   "source": []
  },
  {
   "cell_type": "code",
   "execution_count": null,
   "metadata": {},
   "outputs": [],
   "source": []
  },
  {
   "cell_type": "code",
   "execution_count": null,
   "metadata": {},
   "outputs": [],
   "source": []
  }
 ],
 "metadata": {
  "kernelspec": {
   "display_name": "Python 3",
   "language": "python",
   "name": "python3"
  },
  "language_info": {
   "codemirror_mode": {
    "name": "ipython",
    "version": 3
   },
   "file_extension": ".py",
   "mimetype": "text/x-python",
   "name": "python",
   "nbconvert_exporter": "python",
   "pygments_lexer": "ipython3",
   "version": "3.7.3"
  }
 },
 "nbformat": 4,
 "nbformat_minor": 2
}
