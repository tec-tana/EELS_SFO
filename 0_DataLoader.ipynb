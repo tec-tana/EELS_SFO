{
 "cells": [
  {
   "cell_type": "markdown",
   "metadata": {},
   "source": [
    "# EELS SrFeO Project \n",
    "## Data Loader\n",
    "\n",
    "*Collaboration: M3 Learning at Lehigh University x Dynamic Characterization Group at Drexel University*\n",
    "\n",
    "This script is to load the data into your jupyter environment. Original EELS data is first zipped and loaded onto Google Drive. Note that the link must be in the following format: https://drive.google.com/uc?id=...\n"
   ]
  },
  {
   "cell_type": "code",
   "execution_count": 4,
   "metadata": {},
   "outputs": [
    {
     "name": "stderr",
     "output_type": "stream",
     "text": [
      "Downloading...\n",
      "From: https://drive.google.com/uc?id=1sU-Y49mA1h1jAXQqAgLHJKMurbo55A9N\n",
      "To: /home/pht219/EELS_SFO/High-Speed-EELS.zip\n",
      "822MB [00:13, 62.1MB/s] \n"
     ]
    },
    {
     "data": {
      "text/plain": [
       "'High-Speed-EELS.zip'"
      ]
     },
     "execution_count": 4,
     "metadata": {},
     "output_type": "execute_result"
    }
   ],
   "source": [
    "# Download files onto remote computer\n",
    "import gdown\n",
    "url = r'https://drive.google.com/uc?id=1sU-Y49mA1h1jAXQqAgLHJKMurbo55A9N' # temporal data\n",
    "#url = r'https://drive.google.com/uc?id=1fdKX_de8cMF8zv3yGsJZB7r_igPn8kT8' # binary\n",
    "output = 'High-Speed-EELS.zip'\n",
    "gdown.download(url, output, quiet=False)"
   ]
  },
  {
   "cell_type": "code",
   "execution_count": 5,
   "metadata": {},
   "outputs": [],
   "source": [
    "# Unzip files\n",
    "import zipfile\n",
    "with zipfile.ZipFile('High-Speed-EELS.zip', 'r') as zip_ref:\n",
    "    zip_ref.extractall('temporal_data')"
   ]
  },
  {
   "cell_type": "code",
   "execution_count": 6,
   "metadata": {},
   "outputs": [
    {
     "name": "stdout",
     "output_type": "stream",
     "text": [
      "File Removed!\n"
     ]
    }
   ],
   "source": [
    "# Remove zip file after extraction\n",
    "import os\n",
    "os.remove(\"High-Speed-EELS.zip\")\n",
    "print(\"File Removed!\")"
   ]
  },
  {
   "cell_type": "code",
   "execution_count": null,
   "metadata": {},
   "outputs": [],
   "source": []
  }
 ],
 "metadata": {
  "kernelspec": {
   "display_name": "Python 3",
   "language": "python",
   "name": "python3"
  },
  "language_info": {
   "codemirror_mode": {
    "name": "ipython",
    "version": 3
   },
   "file_extension": ".py",
   "mimetype": "text/x-python",
   "name": "python",
   "nbconvert_exporter": "python",
   "pygments_lexer": "ipython3",
   "version": "3.7.3"
  }
 },
 "nbformat": 4,
 "nbformat_minor": 2
}
